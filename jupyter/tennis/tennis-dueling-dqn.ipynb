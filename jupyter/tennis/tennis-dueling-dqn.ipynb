{
 "cells": [
  {
   "cell_type": "markdown",
   "metadata": {},
   "source": [
    "### based on https://github.com/higgsfield/RL-Adventure and https://medium.com/swlh/introduction-to-reinforcement-learning-coding-sarsa-part-4-2d64d6e37617"
   ]
  },
  {
   "cell_type": "code",
   "execution_count": 1,
   "metadata": {},
   "outputs": [],
   "source": [
    "%matplotlib inline\n",
    "import collections\n",
    "import cv2\n",
    "import gym\n",
    "import gzip\n",
    "import matplotlib.pyplot as plot\n",
    "import numpy as np\n",
    "import random\n",
    "import time\n",
    "import torch as t\n",
    "from IPython.display import clear_output"
   ]
  },
  {
   "cell_type": "code",
   "execution_count": 2,
   "metadata": {},
   "outputs": [],
   "source": [
    "class LazyFrames(object):\n",
    "    def __init__(self, frames):\n",
    "        \"\"\"This object ensures that common frames between the observations are only stored once.\n",
    "        It exists purely to optimize memory usage which can be huge for DQN's 1M frames replay\n",
    "        buffers.\n",
    "        This object should only be converted to numpy array before being passed to the model.\n",
    "        You'd not belive how complex the previous solution was.\"\"\"\n",
    "        self._frames = frames\n",
    "\n",
    "    def __array__(self, dtype=None):\n",
    "        out = np.concatenate(self._frames, axis=0)\n",
    "        if dtype is not None:\n",
    "            out = out.astype(dtype)\n",
    "        return out\n",
    "\n",
    "class ImageToPyTorch(gym.ObservationWrapper):\n",
    "    \"\"\"\n",
    "    Change image shape to CWH\n",
    "    \"\"\"\n",
    "    def __init__(self, env):\n",
    "        super(ImageToPyTorch, self).__init__(env)\n",
    "        old_shape = self.observation_space.shape\n",
    "        self.observation_space = gym.spaces.Box(low=0.0, high=1.0, shape=(old_shape[-1], old_shape[0], old_shape[1]))\n",
    "\n",
    "    def observation(self, observation):\n",
    "        return observation.transpose(2, 0, 1)\n",
    "    \n",
    "class FrameStack(gym.Wrapper):\n",
    "    def __init__(self, env, k):\n",
    "        \"\"\"Stack k last frames.\n",
    "        Returns lazy array, which is much more memory efficient.\n",
    "        See Also\n",
    "        --------\n",
    "        baselines.common.atari_wrappers.LazyFrames\n",
    "        \"\"\"\n",
    "        gym.Wrapper.__init__(self, env)\n",
    "        self.k = k\n",
    "        self.frames = collections.deque([], maxlen=k)\n",
    "        shp = env.observation_space.shape\n",
    "        self.observation_space = gym.spaces.Box(low=0, high=255, shape=(shp[0]*k, shp[1], shp[2]))\n",
    "\n",
    "    def reset(self):\n",
    "        ob = self.env.reset()\n",
    "        for _ in range(self.k):\n",
    "            self.frames.append(ob)\n",
    "        return self._get_ob()\n",
    "\n",
    "    def step(self, action):\n",
    "        ob, reward, done, info = self.env.step(action)\n",
    "        self.frames.append(ob)\n",
    "        return self._get_ob(), reward, done, info\n",
    "\n",
    "    def _get_ob(self):\n",
    "        assert len(self.frames) == self.k\n",
    "        return LazyFrames(list(self.frames))\n",
    "\n",
    "class ResizeObservation(gym.ObservationWrapper):\n",
    "    def __init__(self, env):\n",
    "        super(ResizeObservation, self).__init__(env)\n",
    "        shp = env.observation_space.shape\n",
    "        self.observation_space = gym.spaces.Box(low=0, high=255, shape=(shp[0] // 2, shp[1] // 2, shp[2]))\n",
    "        self.resize_to = (shp[1] // 2, shp[0] // 2)\n",
    "\n",
    "    def observation(self, observation):\n",
    "        return cv2.resize(observation, self.resize_to, interpolation=cv2.INTER_AREA)\n",
    "\n",
    "env = gym.make('TennisDeterministic-v4')\n",
    "env = ResizeObservation(env)\n",
    "env = ImageToPyTorch(env)\n",
    "env = FrameStack(env, 4)"
   ]
  },
  {
   "cell_type": "code",
   "execution_count": 3,
   "metadata": {},
   "outputs": [],
   "source": [
    "USE_CUDA = t.cuda.is_available()# and False\n",
    "device = t.device('cuda') if USE_CUDA else t.device('cpu')"
   ]
  },
  {
   "cell_type": "code",
   "execution_count": 4,
   "metadata": {},
   "outputs": [],
   "source": [
    "class Actor(object):\n",
    "    def __init__(self, env, model, eps, eps_final, eps_steps, initial_explore=0):\n",
    "        self.env = env\n",
    "        self.model = model\n",
    "        self.eps = eps\n",
    "        self.eps_final = eps_final\n",
    "        self.eps_decay = np.exp(np.log(eps_final / eps) / eps_steps)\n",
    "        self.initial_explore = initial_explore\n",
    "    \n",
    "    def act(self, state):\n",
    "        if self.initial_explore > 0:\n",
    "            self.initial_explore -= 1\n",
    "            return self.env.action_space.sample()\n",
    "        self.eps = max(self.eps_final, self.eps * self.eps_decay)\n",
    "        if random.random() < self.eps:\n",
    "            return self.env.action_space.sample()\n",
    "        state = t.FloatTensor(np.array(state)).to(device)\n",
    "        q = self.model(state)\n",
    "        return q.argmax().item()"
   ]
  },
  {
   "cell_type": "code",
   "execution_count": null,
   "metadata": {},
   "outputs": [],
   "source": [
    "import models\n",
    "def build_model():\n",
    "    return models.DuelingCnnDqn(env.observation_space.shape, env.action_space.n).to(device)"
   ]
  },
  {
   "cell_type": "code",
   "execution_count": null,
   "metadata": {},
   "outputs": [],
   "source": [
    "class Replay(object):\n",
    "    def __init__(self, maxlen):\n",
    "        self.memory = np.empty(maxlen, dtype=np.object)\n",
    "        self.index = 0\n",
    "        self.count = 0\n",
    "    def __len__(self):\n",
    "        return self.count\n",
    "    def add(self, state, action, next_state, reward, done):\n",
    "        self.memory[self.index] = (state, action, next_state, reward, done)\n",
    "        self.index = (self.index + 1) % len(self.memory)\n",
    "        if self.count < len(self.memory):\n",
    "            self.count += 1\n",
    "    def sample(self, n):\n",
    "        with t.no_grad():\n",
    "            indices = np.random.randint(low=0, high=self.count, size=n)\n",
    "            states, actions, next_states, rewards, masks = zip(*list(self.memory[indices]))\n",
    "            actions = t.LongTensor(actions).to(device)\n",
    "            rewards = t.FloatTensor(rewards).to(device)\n",
    "            masks = 1 - t.FloatTensor(masks).to(device)\n",
    "            states = Replay.stack_states(states)\n",
    "            next_states = Replay.stack_states(next_states)\n",
    "            return states, actions, next_states, rewards, masks\n",
    "    @staticmethod\n",
    "    def stack_states(states):\n",
    "        s = np.concatenate([np.expand_dims(x, 0) for x in states])\n",
    "        return t.ByteTensor(s).to(device).float()"
   ]
  },
  {
   "cell_type": "code",
   "execution_count": null,
   "metadata": {},
   "outputs": [],
   "source": [
    "def plot_state(msg):\n",
    "    clear_output(False)\n",
    "    plot.figure(figsize=(24,5))\n",
    "    plot.subplot(141)\n",
    "    plot.title('rewards (frame=%dk, %d episodes)' % (np.round(frame/1000), episode))\n",
    "    no_last = lambda x: np.array(x)[:-1]\n",
    "    plot.plot(no_last(all_rewards))\n",
    "    plot.subplot(142)\n",
    "    plot.title('game steps')\n",
    "    plot.plot(no_last(game_steps))\n",
    "    plot.subplot(143)\n",
    "    plot.title('losses')\n",
    "    plot.plot(losses)\n",
    "    plot.subplot(144)\n",
    "    plot.title('random screen')\n",
    "    state, _, _, _, _ = replay.sample(1)\n",
    "    plot.imshow(state.squeeze(0)[-3:].permute(1, 2, 0).cpu().numpy() / 255)\n",
    "    plot.show();\n",
    "    print(msg)"
   ]
  },
  {
   "cell_type": "code",
   "execution_count": null,
   "metadata": {},
   "outputs": [],
   "source": [
    "def reset_env(env):\n",
    "    state = env.reset()\n",
    "    if 'FIRE' in env.unwrapped.get_action_meanings():\n",
    "        state, _, _, _ = env.step(env.unwrapped.get_action_meanings().index('FIRE'))\n",
    "    return state\n",
    "\n",
    "def learn_on_replay():\n",
    "    states, actions, next_states, rewards, masks = replay.sample(batch_size)\n",
    "    \n",
    "    q_values = model(states)\n",
    "    q_value = q_values.gather(1, actions.unsqueeze(1)).squeeze(1)\n",
    "    \n",
    "    q_next_values = target_model(next_states)\n",
    "    q_next_value = q_next_values.max(1).values\n",
    "\n",
    "    target = rewards + gamma * masks * q_next_value\n",
    "    loss = loss_fn(q_value, target.detach())\n",
    "\n",
    "    opt.zero_grad()\n",
    "    loss.backward()\n",
    "    opt.step()\n",
    "\n",
    "    losses.append(loss.item())"
   ]
  },
  {
   "cell_type": "code",
   "execution_count": null,
   "metadata": {},
   "outputs": [],
   "source": [
    "DOUBLE_MODEL = True\n",
    "model = build_model()\n",
    "target_model = build_model() if DOUBLE_MODEL else model\n",
    "opt =  t.optim.Adam(model.parameters(), lr=1e-4)\n",
    "loss_fn = t.nn.SmoothL1Loss()"
   ]
  },
  {
   "cell_type": "code",
   "execution_count": null,
   "metadata": {},
   "outputs": [
    {
     "name": "stdout",
     "output_type": "stream",
     "text": [
      "didn't load model weights from model-dueling-cnn-dqn.gz\n"
     ]
    }
   ],
   "source": [
    "MODEL_PATH = f'model-{model.model_type()}.gz'\n",
    "try:\n",
    "    with gzip.open(MODEL_PATH, 'rb') as f:\n",
    "        model.load_state_dict(t.load(f))\n",
    "        target_model.load_state_dict(model.state_dict())\n",
    "        print(f'model weights loaded from {MODEL_PATH}')\n",
    "        model_loaded = True\n",
    "    eps_steps, warmup_steps = 10000, 0\n",
    "except:\n",
    "    print(f'didn\\'t load model weights from {MODEL_PATH}')\n",
    "    model_loaded = False\n",
    "    eps_steps, warmup_steps = 50000, 10000\n",
    "\n",
    "def save_weights(model):\n",
    "    try:\n",
    "        with gzip.open(MODEL_PATH, 'wb') as f:\n",
    "            t.save(model.state_dict(), f, pickle_protocol=4)\n",
    "            print(f'model weights saved to {MODEL_PATH}')\n",
    "    except:\n",
    "        print('didn\\'t save model weights')"
   ]
  },
  {
   "cell_type": "code",
   "execution_count": null,
   "metadata": {},
   "outputs": [],
   "source": [
    "replay = Replay(1000000)\n",
    "actor = Actor(env, model, 1, 0.05, eps_steps, warmup_steps)\n",
    "all_rewards = collections.deque(maxlen=500)\n",
    "game_steps = collections.deque(maxlen=500)\n",
    "losses = collections.deque(maxlen=10000)\n",
    "batch_size = 32\n",
    "gamma = 0.99\n",
    "episode, frame = 0, 0"
   ]
  },
  {
   "cell_type": "code",
   "execution_count": null,
   "metadata": {
    "scrolled": false
   },
   "outputs": [
    {
     "data": {
      "image/png": "[encoded data removed]",
      "text/plain": [
       "<Figure size 1728x360 with 4 Axes>"
      ]
     },
     "metadata": {
      "needs_background": "light"
     },
     "output_type": "display_data"
    },
    {
     "name": "stdout",
     "output_type": "stream",
     "text": [
      "\n"
     ]
    }
   ],
   "source": [
    "while episode < 10000:\n",
    "    episode += 1\n",
    "    all_rewards.append(0)\n",
    "    game_steps.append(0)\n",
    "    state, done, zero_count = reset_env(env), False, 0\n",
    "    while not done:\n",
    "        frame += 1\n",
    "        action = actor.act(state)\n",
    "        next_state, reward, done, info = env.step(action)\n",
    "        all_rewards[-1] += reward\n",
    "        game_steps[-1] += 1\n",
    "        zero_count = (zero_count + 1) if reward == 0 else 0\n",
    "        replay.add(state, action, next_state, reward - 0.1 if zero_count > 2000 else 0, done)\n",
    "        state = next_state\n",
    "\n",
    "        if len(replay) > 50000:\n",
    "            learn_on_replay()\n",
    "        \n",
    "        if DOUBLE_MODEL and (frame % 1000 == 0):\n",
    "            target_model.load_state_dict(model.state_dict())\n",
    "        \n",
    "        if frame % 1000 == 0:\n",
    "            plot_state('')\n",
    "        \n",
    "        if frame % 100000 == 0:\n",
    "            save_weights(model)\n",
    "\n",
    "plot_state('finished')\n",
    "save_weights(model)"
   ]
  },
  {
   "cell_type": "raw",
   "metadata": {},
   "source": [
    "\n",
    "\n",
    "\n",
    "\n",
    "\n",
    "\n",
    "\n",
    "\n",
    "\n",
    "\n",
    "\n",
    "\n",
    "\n",
    "\n",
    "\n",
    "\n",
    "\n",
    "\n",
    "\n",
    "\n",
    "\n",
    "\n",
    "\n",
    "\n",
    "\n",
    "\n",
    "\n",
    "\n",
    "\n",
    "\n",
    "\n",
    "\n",
    "\n",
    "\n",
    "\n",
    "\n",
    "\n",
    "\n",
    "\n",
    "\n",
    "\n",
    "\n",
    "\n",
    "\n",
    "\n",
    "\n",
    "\n",
    "\n",
    "\n",
    "\n",
    "\n",
    "\n",
    "\n",
    "\n",
    "\n",
    "\n",
    "\n",
    "\n"
   ]
  }
 ],
 "metadata": {
  "kernelspec": {
   "display_name": "Python 3",
   "language": "python",
   "name": "python3"
  },
  "language_info": {
   "codemirror_mode": {
    "name": "ipython",
    "version": 3
   },
   "file_extension": ".py",
   "mimetype": "text/x-python",
   "name": "python",
   "nbconvert_exporter": "python",
   "pygments_lexer": "ipython3",
   "version": "3.7.1"
  }
 },
 "nbformat": 4,
 "nbformat_minor": 2
}
