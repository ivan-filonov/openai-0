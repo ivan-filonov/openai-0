{
 "cells": [
  {
   "cell_type": "code",
   "execution_count": 1,
   "metadata": {},
   "outputs": [],
   "source": [
    "%load_ext cython"
   ]
  },
  {
   "cell_type": "code",
   "execution_count": 2,
   "metadata": {},
   "outputs": [],
   "source": [
    "%matplotlib inline\n",
    "import matplotlib.pyplot as plot\n",
    "import numpy as np\n",
    "import seaborn as sns"
   ]
  },
  {
   "cell_type": "code",
   "execution_count": 3,
   "metadata": {},
   "outputs": [],
   "source": [
    "import collections"
   ]
  },
  {
   "cell_type": "code",
   "execution_count": 4,
   "metadata": {},
   "outputs": [],
   "source": [
    "class ReplayDeque(object):\n",
    "    def __init__(self, maxlen):\n",
    "        self.data = collections.deque(maxlen=maxlen)\n",
    "\n",
    "    def __len__(self):\n",
    "        return len(self.data)\n",
    "\n",
    "    def add(self, exp):\n",
    "        self.data.append(exp)\n",
    "\n",
    "    def sample(self, n):\n",
    "        indices = np.random.choice(len(self.data), n)\n",
    "        samples = [self.data[idx] for idx in indices]\n",
    "        return indices, samples"
   ]
  },
  {
   "cell_type": "code",
   "execution_count": 5,
   "metadata": {},
   "outputs": [],
   "source": [
    "class ReplayArray(object):\n",
    "    def __init__(self, maxlen):\n",
    "        self.maxlen = maxlen\n",
    "        self.write = 0\n",
    "        self.count = 0\n",
    "        self.data = np.empty((maxlen,), dtype=object)\n",
    "\n",
    "    def __len__(self):\n",
    "        return self.count\n",
    "\n",
    "    def add(self, exp):\n",
    "        self.data[self.write] = exp\n",
    "        self.write = (self.write + 1) % self.maxlen\n",
    "        self.count = min(self.maxlen, self.count + 1)\n",
    "\n",
    "    def sample(self, n):\n",
    "        indices = np.random.choice(self.count, n)\n",
    "        samples = np.empty((n,), dtype=object)\n",
    "        for i in range(n):\n",
    "            samples[i] = self.data[indices[i]]\n",
    "        return indices, samples"
   ]
  },
  {
   "cell_type": "code",
   "execution_count": 6,
   "metadata": {},
   "outputs": [
    {
     "name": "stderr",
     "output_type": "stream",
     "text": [
      "warning: /home/user/.cache/ipython/cython/_cython_magic_bd5a3f65f9afd8670dded2462dfb2ccc.pyx:31:42: Index should be typed for more efficient access\n"
     ]
    }
   ],
   "source": [
    "%%cython -c=-O2\n",
    "import numpy as np\n",
    "cimport numpy as np\n",
    "\n",
    "cdef class cython_bufffer:\n",
    "    cdef np.ndarray np_data\n",
    "    cdef object[:] data\n",
    "    cdef size_t maxlen\n",
    "    cdef size_t write\n",
    "    cdef size_t count\n",
    "    \n",
    "    def __init__(self, maxlen):\n",
    "        self.maxlen = maxlen\n",
    "        self.write = 0\n",
    "        self.count = 0\n",
    "        self.np_data = np.empty((maxlen,), dtype=object)\n",
    "        self.data = self.np_data\n",
    "    \n",
    "    cpdef size_t get_count(self):\n",
    "        return self.count\n",
    "    \n",
    "    cpdef add(self, exp : object):\n",
    "        self.data[self.write] = exp\n",
    "        self.write = (self.write + 1) % self.maxlen\n",
    "        self.count = min(self.maxlen, self.count + 1)\n",
    "    \n",
    "    cpdef sample(self, n : size_t):\n",
    "        cdef np.ndarray indices = np.random.choice(self.count, n).astype(np.int32)\n",
    "        cdef np.ndarray samples = np.empty((n,), dtype=object)\n",
    "        cdef size_t i\n",
    "        for i in range(n):\n",
    "            samples[i] = self.data[indices[i]]\n",
    "        return indices, samples\n",
    "\n",
    "class ReplayCython(object):\n",
    "    def __init__(self, maxlen):\n",
    "        self.buffer = cython_bufffer(maxlen)\n",
    "\n",
    "    def __len__(self):\n",
    "        return self.buffer.get_count()\n",
    "\n",
    "    def add(self, exp):\n",
    "        self.buffer.add(exp)\n",
    "\n",
    "    def sample(self, n):\n",
    "        return self.buffer.sample(n)"
   ]
  },
  {
   "cell_type": "code",
   "execution_count": 7,
   "metadata": {},
   "outputs": [],
   "source": [
    "def run_bench(factory, count, batch_size):\n",
    "    buf = factory()\n",
    "    for i in range(count):\n",
    "        buf.add((i, f'rec_{i}'))\n",
    "        if len(buf) > batch_size:\n",
    "            i, s = buf.sample(batch_size)"
   ]
  },
  {
   "cell_type": "code",
   "execution_count": 8,
   "metadata": {},
   "outputs": [
    {
     "name": "stdout",
     "output_type": "stream",
     "text": [
      "1.95 s ± 29.8 ms per loop (mean ± std. dev. of 7 runs, 1 loop each)\n",
      "20.2 s ± 663 ms per loop (mean ± std. dev. of 7 runs, 1 loop each)\n"
     ]
    }
   ],
   "source": [
    "ff = lambda: ReplayCython(10000)\n",
    "%timeit run_bench(ff, 100000, 32)\n",
    "%timeit run_bench(ff, 1000000, 32)"
   ]
  },
  {
   "cell_type": "code",
   "execution_count": 9,
   "metadata": {},
   "outputs": [
    {
     "name": "stdout",
     "output_type": "stream",
     "text": [
      "2.3 s ± 26.7 ms per loop (mean ± std. dev. of 7 runs, 1 loop each)\n",
      "23.7 s ± 774 ms per loop (mean ± std. dev. of 7 runs, 1 loop each)\n"
     ]
    }
   ],
   "source": [
    "ff = lambda: ReplayDeque(10000)\n",
    "%timeit run_bench(ff, 100000, 32)\n",
    "%timeit run_bench(ff, 1000000, 32)"
   ]
  },
  {
   "cell_type": "code",
   "execution_count": 10,
   "metadata": {},
   "outputs": [
    {
     "name": "stdout",
     "output_type": "stream",
     "text": [
      "2.57 s ± 46.4 ms per loop (mean ± std. dev. of 7 runs, 1 loop each)\n",
      "25.3 s ± 184 ms per loop (mean ± std. dev. of 7 runs, 1 loop each)\n"
     ]
    }
   ],
   "source": [
    "ff = lambda: ReplayArray(10000)\n",
    "%timeit run_bench(ff, 100000, 32)\n",
    "%timeit run_bench(ff, 1000000, 32)"
   ]
  },
  {
   "cell_type": "code",
   "execution_count": 11,
   "metadata": {},
   "outputs": [
    {
     "name": "stdout",
     "output_type": "stream",
     "text": [
      "22.5 s ± 376 ms per loop (mean ± std. dev. of 7 runs, 1 loop each)\n",
      "4min 6s ± 26.4 s per loop (mean ± std. dev. of 7 runs, 1 loop each)\n"
     ]
    }
   ],
   "source": [
    "ff = lambda: ReplayCython(100000)\n",
    "%timeit run_bench(ff, 1000000, 32)\n",
    "%timeit run_bench(ff, 10000000, 32)"
   ]
  },
  {
   "cell_type": "code",
   "execution_count": 12,
   "metadata": {},
   "outputs": [
    {
     "name": "stdout",
     "output_type": "stream",
     "text": [
      "49.6 s ± 665 ms per loop (mean ± std. dev. of 7 runs, 1 loop each)\n",
      "8min 23s ± 6.78 s per loop (mean ± std. dev. of 7 runs, 1 loop each)\n"
     ]
    }
   ],
   "source": [
    "ff = lambda: ReplayDeque(100000)\n",
    "%timeit run_bench(ff, 1000000, 32)\n",
    "%timeit run_bench(ff, 10000000, 32)"
   ]
  },
  {
   "cell_type": "code",
   "execution_count": 13,
   "metadata": {},
   "outputs": [
    {
     "name": "stdout",
     "output_type": "stream",
     "text": [
      "30 s ± 389 ms per loop (mean ± std. dev. of 7 runs, 1 loop each)\n",
      "5min 1s ± 462 ms per loop (mean ± std. dev. of 7 runs, 1 loop each)\n"
     ]
    }
   ],
   "source": [
    "ff = lambda: ReplayArray(100000)\n",
    "%timeit run_bench(ff, 1000000, 32)\n",
    "%timeit run_bench(ff, 10000000, 32)"
   ]
  }
 ],
 "metadata": {
  "kernelspec": {
   "display_name": "Python 3",
   "language": "python",
   "name": "python3"
  },
  "language_info": {
   "codemirror_mode": {
    "name": "ipython",
    "version": 3
   },
   "file_extension": ".py",
   "mimetype": "text/x-python",
   "name": "python",
   "nbconvert_exporter": "python",
   "pygments_lexer": "ipython3",
   "version": "3.7.1"
  }
 },
 "nbformat": 4,
 "nbformat_minor": 2
}
