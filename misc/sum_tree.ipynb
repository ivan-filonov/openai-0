{
 "cells": [
  {
   "cell_type": "markdown",
   "metadata": {},
   "source": [
    "[explaining article](https://www.fcodelabs.com/2019/03/18/Sum-Tree-Introduction/)"
   ]
  },
  {
   "cell_type": "code",
   "execution_count": 1,
   "metadata": {},
   "outputs": [],
   "source": [
    "%load_ext cython"
   ]
  },
  {
   "cell_type": "code",
   "execution_count": 2,
   "metadata": {},
   "outputs": [],
   "source": [
    "%matplotlib inline\n",
    "import matplotlib.pyplot as plot\n",
    "import numba\n",
    "import numpy as np\n",
    "import seaborn as sns"
   ]
  },
  {
   "cell_type": "code",
   "execution_count": 3,
   "metadata": {},
   "outputs": [],
   "source": [
    "import cProfile\n",
    "import pstats"
   ]
  },
  {
   "cell_type": "code",
   "execution_count": 4,
   "metadata": {},
   "outputs": [],
   "source": [
    "# benchmark workload: fill, sample, update, repeat\n",
    "def buffer_benchmark(factory, max_frame, batch_size):\n",
    "    buffer = factory()\n",
    "    for frame in range(max_frame):\n",
    "        buffer.add('frame%d' % frame, 1.0)\n",
    "        if len(buffer) > batch_size:\n",
    "            indices, weights, objects = buffer.sample(batch_size)\n",
    "            assert len(indices) == len(weights) == len(objects) == batch_size, 'invalid output of sample()'\n",
    "            weights = np.clip(weights + np.random.random(weights.shape) - 0.5, 0.01, 1.0)\n",
    "            buffer.update(indices, weights)"
   ]
  },
  {
   "cell_type": "code",
   "execution_count": 5,
   "metadata": {},
   "outputs": [],
   "source": [
    "class NaivePrioritizedBuffer(object):\n",
    "    def __init__(self, capacity, prob_alpha=0.6):\n",
    "        self.prob_alpha = prob_alpha\n",
    "        self.capacity = capacity\n",
    "        self.buffer = []\n",
    "        self.pos = 0\n",
    "        self.priorities = np.zeros((capacity,), dtype=np.float32)\n",
    "    \n",
    "    def add(self, obj, p):\n",
    "        max_prio = np.max(self.priorities) if self.buffer else 1.0\n",
    "\n",
    "        if len(self.buffer) < self.capacity:\n",
    "            self.buffer.append(obj)\n",
    "        else:\n",
    "            self.buffer[self.pos] = obj\n",
    "        \n",
    "        self.priorities[self.pos] = max_prio\n",
    "        self.pos = (self.pos + 1) % self.capacity\n",
    "    \n",
    "    def sample(self, n, beta=0.4):\n",
    "        if len(self.buffer) == self.capacity:\n",
    "            prios = self.priorities\n",
    "        else:\n",
    "            prios = self.priorities[: self.pos]\n",
    "        probs = prios ** self.prob_alpha\n",
    "        probs /= probs.sum()\n",
    "        \n",
    "        indices = np.random.choice(len(self.buffer), n, p=probs)\n",
    "        samples = [self.buffer[idx] for idx in indices]\n",
    "        weights = (len(self.buffer) * probs[indices]) ** (-beta)\n",
    "        weights /= weights.max()\n",
    "        \n",
    "        return indices, weights, samples\n",
    "    \n",
    "    def update(self, indices, priorities):\n",
    "        for idx, prio in zip(indices, priorities):\n",
    "            self.priorities[idx] = prio\n",
    "    \n",
    "    def __len__(self):\n",
    "        return len(self.buffer)"
   ]
  },
  {
   "cell_type": "code",
   "execution_count": 6,
   "metadata": {},
   "outputs": [
    {
     "name": "stdout",
     "output_type": "stream",
     "text": [
      "1.94 s ± 57.6 ms per loop (mean ± std. dev. of 7 runs, 1 loop each)\n",
      "4.87 s ± 83.2 ms per loop (mean ± std. dev. of 7 runs, 1 loop each)\n",
      "13.6 s ± 177 ms per loop (mean ± std. dev. of 7 runs, 1 loop each)\n",
      "28 s ± 58.9 ms per loop (mean ± std. dev. of 7 runs, 1 loop each)\n"
     ]
    }
   ],
   "source": [
    "factory = lambda: NaivePrioritizedBuffer(10000, 0.6)\n",
    "%timeit buffer_benchmark(factory, 10000, 32)\n",
    "%timeit buffer_benchmark(factory, 20000, 32)\n",
    "%timeit buffer_benchmark(factory, 50000, 32)\n",
    "%timeit buffer_benchmark(factory, 100000, 32)"
   ]
  },
  {
   "cell_type": "markdown",
   "metadata": {},
   "source": [
    "most of sumtree code derived from [github](https://github.com/chuyangliu/Snake/blob/master/snake/util/sumtree.py):"
   ]
  },
  {
   "cell_type": "code",
   "execution_count": 7,
   "metadata": {},
   "outputs": [],
   "source": [
    "%%cython -c=-O3\n",
    "# cython: boundscheck=False\n",
    "import numpy as np\n",
    "cimport numpy as np\n",
    "\n",
    "cdef class SumTree:\n",
    "    cpdef float[:] tree\n",
    "    cpdef np.ndarray nd_tree\n",
    "    cpdef size_t capacity\n",
    "    cpdef size_t pos\n",
    "    cpdef size_t count\n",
    "    def __init__(self, capacity : size_t):\n",
    "        self.nd_tree = np.zeros((capacity * 2 - 1, ), dtype=np.float32)\n",
    "        self.tree = self.nd_tree\n",
    "        self.capacity = capacity\n",
    "        self.pos = 0\n",
    "        self.count = 0\n",
    "\n",
    "    def get_one(self, s : float) -> [size_t, float]:\n",
    "        cdef size_t parent = 0\n",
    "        cdef size_t left, right\n",
    "        with nogil:\n",
    "            while parent < self.capacity - 1:\n",
    "                left = parent * 2 + 1\n",
    "                right = left + 1\n",
    "                if s <= self.tree[left]:\n",
    "                    parent = left\n",
    "                else:\n",
    "                    s -= self.tree[left]\n",
    "                    parent = right\n",
    "        return parent - self.capacity + 1, self.tree[parent]\n",
    "    \n",
    "    def add_one(self, value : float) -> size_t:\n",
    "        cdef size_t idx = self.pos\n",
    "        self.update_one(idx, value)\n",
    "        self.pos = (self.pos + 1) % self.capacity\n",
    "        self.count = min(self.count + 1, self.capacity)\n",
    "        return idx\n",
    "    \n",
    "    def update_one(self, idx : size_t, value : float):\n",
    "        idx = idx + self.capacity - 1\n",
    "        cdef float[:] tree = self.tree\n",
    "        cdef float change = value - tree[idx]\n",
    "        with nogil:\n",
    "            while True:\n",
    "                tree[idx] += change\n",
    "                if 0 == idx:\n",
    "                    break\n",
    "                idx = (idx - 1) // 2\n",
    "\n",
    "    def sum_total(self) -> float:\n",
    "        return self.tree[0]\n",
    "    \n",
    "    def __len__(self) -> size_t:\n",
    "        return self.count\n",
    "        \n",
    "class SumTreePrioritizedBufferCython(object):\n",
    "    def __init__(self, capacity : size_t, alpha : float):\n",
    "        self.capacity = capacity\n",
    "        self.tree = SumTree(capacity)\n",
    "        self.data = np.empty(capacity, dtype=object)\n",
    "\n",
    "    def __len__(self) -> size_t:\n",
    "        return len(self.tree)\n",
    "    \n",
    "    def add(self, obj : object, p : float):\n",
    "        idx = self.tree.add_one(p)\n",
    "        self.data[idx] = obj\n",
    "    \n",
    "    def update(self, indices, priorities):\n",
    "        for i in range(indices.size):\n",
    "            idx, prio = indices[i], priorities[i]\n",
    "            self.tree.update_one(int(idx), float(prio))\n",
    "\n",
    "    def sample(self, n : size_t):\n",
    "        segment = self.tree.sum_total() / float(n)\n",
    "        a = np.arange(n) * segment\n",
    "        b = a + segment\n",
    "        s = np.random.uniform(a, b)\n",
    "        indices = np.zeros(n, dtype=np.uint32)\n",
    "        weights = np.empty(n, dtype=np.float32)\n",
    "        samples = np.empty(n, dtype=object)\n",
    "        for i in range(n):\n",
    "            idx, prio = self.tree.get_one(s[i])\n",
    "            indices[i] = idx\n",
    "            weights[i] = prio\n",
    "            samples[i] = self.data[idx]\n",
    "        return indices, weights, samples"
   ]
  },
  {
   "cell_type": "code",
   "execution_count": 8,
   "metadata": {
    "scrolled": true
   },
   "outputs": [
    {
     "name": "stdout",
     "output_type": "stream",
     "text": [
      "597 ms ± 2.68 ms per loop (mean ± std. dev. of 7 runs, 1 loop each)\n",
      "1.21 s ± 3.36 ms per loop (mean ± std. dev. of 7 runs, 1 loop each)\n",
      "3.05 s ± 35.4 ms per loop (mean ± std. dev. of 7 runs, 1 loop each)\n",
      "6.04 s ± 39.6 ms per loop (mean ± std. dev. of 7 runs, 1 loop each)\n"
     ]
    }
   ],
   "source": [
    "factory = lambda: SumTreePrioritizedBufferCython(10000, 0.6)\n",
    "%timeit buffer_benchmark(factory, 10000, 32)\n",
    "%timeit buffer_benchmark(factory, 20000, 32)\n",
    "%timeit buffer_benchmark(factory, 50000, 32)\n",
    "%timeit buffer_benchmark(factory, 100000, 32)"
   ]
  },
  {
   "cell_type": "code",
   "execution_count": 9,
   "metadata": {},
   "outputs": [],
   "source": [
    "class SumTreePrioritizedBufferNumba(object):\n",
    "    def __init__(self, capacity, prob_alpha=0.6):\n",
    "        self.capacity, self.prob_alpha = capacity, prob_alpha\n",
    "        self.tree = np.zeros(capacity * 2 - 1, dtype=np.float32)\n",
    "        self.data = np.empty(capacity, dtype=object)\n",
    "        self.pos, self.len = 0, 0\n",
    "\n",
    "    @numba.jit\n",
    "    def _update(self, idx, value):\n",
    "        tree = self.tree\n",
    "        change = value - tree[idx]\n",
    "        tree[idx] = value\n",
    "        while True:\n",
    "            tree[idx] += change\n",
    "            if 0 == idx:\n",
    "                break\n",
    "            idx = (idx - 1) // 2\n",
    "    \n",
    "    @numba.jit\n",
    "    def _retrieve(self, s):\n",
    "        tree_idx, parent = None, 0\n",
    "        while True:\n",
    "            if parent >= self.capacity - 1:\n",
    "                tree_idx = parent\n",
    "                break\n",
    "            left = parent * 2 + 1\n",
    "            right = left + 1\n",
    "            if s <= self.tree[left]:\n",
    "                parent = left\n",
    "            else:\n",
    "                s -= self.tree[left]\n",
    "                parent = right\n",
    "        return tree_idx\n",
    "    \n",
    "    @numba.jit\n",
    "    def add(self, obj, p=1):\n",
    "        idx = self.pos + self.capacity - 1\n",
    "        self.data[self.pos] = obj\n",
    "        self._update(idx, p)\n",
    "        self.pos = (self.pos + 1) % self.capacity\n",
    "        self.len = min(self.len + 1, self.capacity)\n",
    "\n",
    "    @numba.jit\n",
    "    def sample(self, n, beta=0.4):\n",
    "        segment = self.tree[0] / n\n",
    "        a = np.arange(n) * segment\n",
    "        b = a + segment\n",
    "        s = np.random.uniform(a, b)\n",
    "        indices = np.zeros(n, dtype=np.int32)\n",
    "        weights = np.empty(n, dtype=np.float32)\n",
    "        samples = np.empty(n, dtype=object)\n",
    "        for i in range(n):\n",
    "            idx = self._retrieve(s[i])\n",
    "            indices[i] = idx\n",
    "            weights[i] = self.tree[idx]\n",
    "            samples[i] = self.data[idx - self.capacity + 1]\n",
    "        return indices, weights, samples\n",
    "    \n",
    "    @numba.jit\n",
    "    def update(self, indices, priorities):\n",
    "        for idx, prio in zip(indices, priorities):\n",
    "            self._update(idx, prio)\n",
    "    \n",
    "    def __len__(self):\n",
    "        return self.len"
   ]
  },
  {
   "cell_type": "code",
   "execution_count": 10,
   "metadata": {
    "scrolled": false
   },
   "outputs": [
    {
     "name": "stdout",
     "output_type": "stream",
     "text": [
      "         149576 function calls in 0.647 seconds\n",
      "\n",
      "   Ordered by: internal time\n",
      "\n",
      "   ncalls  tottime  percall  cumtime  percall filename:lineno(function)\n",
      "        1    0.540    0.540    0.647    0.647 <ipython-input-4-64489c64b0f7>:2(buffer_benchmark)\n",
      "     9968    0.029    0.000    0.029    0.000 {method 'reduce' of 'numpy.ufunc' objects}\n",
      "     9968    0.014    0.000    0.048    0.000 /home/user/.local/lib/python3.7/site-packages/numpy/core/fromnumeric.py:69(_wrapreduction)\n",
      "     9968    0.013    0.000    0.013    0.000 {method 'random_sample' of 'mtrand.RandomState' objects}\n",
      "     9968    0.012    0.000    0.012    0.000 {method 'clip' of 'numpy.ndarray' objects}\n",
      "     9969    0.010    0.000    0.010    0.000 /home/user/.local/lib/python3.7/site-packages/numpy/core/_internal.py:886(npy_ctypes_check)\n",
      "     9968    0.008    0.000    0.056    0.000 /home/user/.local/lib/python3.7/site-packages/numpy/core/fromnumeric.py:2171(all)\n",
      "    39904    0.006    0.000    0.006    0.000 {built-in method builtins.len}\n",
      "     9968    0.006    0.000    0.023    0.000 /home/user/.local/lib/python3.7/site-packages/numpy/core/fromnumeric.py:1903(clip)\n",
      "     9968    0.004    0.000    0.017    0.000 /home/user/.local/lib/python3.7/site-packages/numpy/core/fromnumeric.py:54(_wrapfunc)\n",
      "     9968    0.003    0.000    0.003    0.000 /home/user/.local/lib/python3.7/site-packages/numpy/core/fromnumeric.py:70(<dictcomp>)\n",
      "     9968    0.001    0.000    0.001    0.000 {built-in method builtins.getattr}\n",
      "     9968    0.001    0.000    0.001    0.000 {method 'items' of 'dict' objects}\n",
      "        1    0.000    0.000    0.000    0.000 <ipython-input-8-1b82ab1a8fcf>:1(<lambda>)\n",
      "        1    0.000    0.000    0.647    0.647 <ipython-input-10-6c670b537a94>:3(<module>)\n",
      "        2    0.000    0.000    0.000    0.000 {built-in method builtins.compile}\n",
      "        2    0.000    0.000    0.647    0.324 /home/user/.local/lib/python3.7/site-packages/IPython/core/interactiveshell.py:3254(run_code)\n",
      "        2    0.000    0.000    0.000    0.000 /usr/lib/python3.7/codeop.py:132(__call__)\n",
      "        2    0.000    0.000    0.000    0.000 /home/user/.local/lib/python3.7/site-packages/IPython/core/hooks.py:142(__call__)\n",
      "        2    0.000    0.000    0.000    0.000 /home/user/.local/lib/python3.7/site-packages/IPython/core/interactiveshell.py:116(<lambda>)\n",
      "        1    0.000    0.000    0.000    0.000 <ipython-input-10-6c670b537a94>:4(<module>)\n",
      "        2    0.000    0.000    0.000    0.000 /home/user/.local/lib/python3.7/site-packages/IPython/core/interactiveshell.py:1266(user_global_ns)\n",
      "        2    0.000    0.000    0.647    0.324 {built-in method builtins.exec}\n",
      "        2    0.000    0.000    0.000    0.000 /home/user/.local/lib/python3.7/site-packages/IPython/utils/ipstruct.py:125(__getattr__)\n",
      "        2    0.000    0.000    0.000    0.000 /home/user/.local/lib/python3.7/site-packages/IPython/core/hooks.py:207(pre_run_code_hook)\n",
      "        1    0.000    0.000    0.000    0.000 {method 'disable' of '_lsprof.Profiler' objects}\n",
      "\n",
      "\n"
     ]
    },
    {
     "data": {
      "text/plain": [
       "<pstats.Stats at 0x7f6b4d79cf98>"
      ]
     },
     "execution_count": 10,
     "metadata": {},
     "output_type": "execute_result"
    }
   ],
   "source": [
    "pr = cProfile.Profile()\n",
    "pr.enable()\n",
    "buffer_benchmark(factory, 10000, 32)\n",
    "pr.disable()\n",
    "st = pstats.Stats(pr).sort_stats('tottime')\n",
    "st.print_stats()"
   ]
  },
  {
   "cell_type": "code",
   "execution_count": 11,
   "metadata": {
    "scrolled": true
   },
   "outputs": [
    {
     "name": "stdout",
     "output_type": "stream",
     "text": [
      "14.3 s ± 50 ms per loop (mean ± std. dev. of 7 runs, 1 loop each)\n",
      "29 s ± 94 ms per loop (mean ± std. dev. of 7 runs, 1 loop each)\n",
      "1min 12s ± 243 ms per loop (mean ± std. dev. of 7 runs, 1 loop each)\n",
      "2min 25s ± 727 ms per loop (mean ± std. dev. of 7 runs, 1 loop each)\n"
     ]
    }
   ],
   "source": [
    "factory = lambda: SumTreePrioritizedBufferNumba(10000, 0.6)\n",
    "%timeit buffer_benchmark(factory, 10000, 32)\n",
    "%timeit buffer_benchmark(factory, 20000, 32)\n",
    "%timeit buffer_benchmark(factory, 50000, 32)\n",
    "%timeit buffer_benchmark(factory, 100000, 32)"
   ]
  },
  {
   "cell_type": "code",
   "execution_count": 12,
   "metadata": {
    "scrolled": true
   },
   "outputs": [
    {
     "name": "stdout",
     "output_type": "stream",
     "text": [
      "6.3 s ± 18.4 ms per loop (mean ± std. dev. of 7 runs, 1 loop each)\n",
      "12.6 s ± 58.6 ms per loop (mean ± std. dev. of 7 runs, 1 loop each)\n",
      "31.8 s ± 118 ms per loop (mean ± std. dev. of 7 runs, 1 loop each)\n",
      "1min 4s ± 259 ms per loop (mean ± std. dev. of 7 runs, 1 loop each)\n"
     ]
    }
   ],
   "source": [
    "factory = lambda: SumTreePrioritizedBufferCython(100000, 0.6)\n",
    "%timeit buffer_benchmark(factory, 100000, 32)\n",
    "%timeit buffer_benchmark(factory, 200000, 32)\n",
    "%timeit buffer_benchmark(factory, 500000, 32)\n",
    "%timeit buffer_benchmark(factory, 1000000, 32)"
   ]
  },
  {
   "cell_type": "code",
   "execution_count": 13,
   "metadata": {
    "scrolled": true
   },
   "outputs": [
    {
     "name": "stdout",
     "output_type": "stream",
     "text": [
      "2min 31s ± 260 ms per loop (mean ± std. dev. of 7 runs, 1 loop each)\n",
      "5min 4s ± 740 ms per loop (mean ± std. dev. of 7 runs, 1 loop each)\n",
      "12min 42s ± 1.85 s per loop (mean ± std. dev. of 7 runs, 1 loop each)\n",
      "25min 25s ± 6.62 s per loop (mean ± std. dev. of 7 runs, 1 loop each)\n"
     ]
    }
   ],
   "source": [
    "factory = lambda: SumTreePrioritizedBufferNumba(100000, 0.6)\n",
    "%timeit buffer_benchmark(factory, 100000, 32)\n",
    "%timeit buffer_benchmark(factory, 200000, 32)\n",
    "%timeit buffer_benchmark(factory, 500000, 32)\n",
    "%timeit buffer_benchmark(factory, 1000000, 32)"
   ]
  },
  {
   "cell_type": "code",
   "execution_count": 14,
   "metadata": {
    "scrolled": true
   },
   "outputs": [
    {
     "name": "stdout",
     "output_type": "stream",
     "text": [
      "1min 50s ± 1.25 s per loop (mean ± std. dev. of 7 runs, 1 loop each)\n",
      "5min 22s ± 4.58 s per loop (mean ± std. dev. of 7 runs, 1 loop each)\n",
      "16min 33s ± 10.5 s per loop (mean ± std. dev. of 7 runs, 1 loop each)\n",
      "35min 12s ± 4.82 s per loop (mean ± std. dev. of 7 runs, 1 loop each)\n"
     ]
    }
   ],
   "source": [
    "factory = lambda: NaivePrioritizedBuffer(100000, 0.6)\n",
    "%timeit buffer_benchmark(factory, 100000, 32)\n",
    "%timeit buffer_benchmark(factory, 200000, 32)\n",
    "%timeit buffer_benchmark(factory, 500000, 32)\n",
    "%timeit buffer_benchmark(factory, 1000000, 32)"
   ]
  }
 ],
 "metadata": {
  "kernelspec": {
   "display_name": "Python 3",
   "language": "python",
   "name": "python3"
  },
  "language_info": {
   "codemirror_mode": {
    "name": "ipython",
    "version": 3
   },
   "file_extension": ".py",
   "mimetype": "text/x-python",
   "name": "python",
   "nbconvert_exporter": "python",
   "pygments_lexer": "ipython3",
   "version": "3.7.1"
  }
 },
 "nbformat": 4,
 "nbformat_minor": 2
}
