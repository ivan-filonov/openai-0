{
 "cells": [
  {
   "cell_type": "code",
   "execution_count": 1,
   "metadata": {},
   "outputs": [],
   "source": [
    "import numpy as np\n",
    "import pandas as pd"
   ]
  },
  {
   "cell_type": "code",
   "execution_count": 2,
   "metadata": {},
   "outputs": [
    {
     "name": "stdout",
     "output_type": "stream",
     "text": [
      "[[ 0.          2.          6.         12.        ]\n",
      " [ 1.          3.5         8.         14.5       ]\n",
      " [ 2.          5.33333333 10.66666667 18.        ]\n",
      " [ 3.          7.25       13.5        21.75      ]\n",
      " [ 4.          9.2        16.4        25.6       ]\n",
      " [ 5.         11.16666667 19.33333333 29.5       ]\n",
      " [ 6.         13.14285714 22.28571429 33.42857143]\n",
      " [ 7.         15.125      25.25       37.375     ]]\n"
     ]
    }
   ],
   "source": [
    "X = np.zeros((8,4))\n",
    "for i in range(X.shape[0]):\n",
    "    for j in range(X.shape[1]):\n",
    "        X[i,j] = i + i * j + j * j + j / (i + 1)\n",
    "print(X)"
   ]
  },
  {
   "cell_type": "code",
   "execution_count": 3,
   "metadata": {},
   "outputs": [
    {
     "data": {
      "text/plain": [
       "array([[-1.67656967e+01,  2.77963716e-01,  2.45267578e-15,\n",
       "         7.62538783e-19],\n",
       "       [-1.31082964e+01, -7.33521269e-02,  1.17146405e-15,\n",
       "        -1.21905768e-17],\n",
       "       [-8.23812234e+00, -1.33574499e-01,  2.06606471e-15,\n",
       "         1.63502573e-17],\n",
       "       [-3.06475483e+00, -1.21023504e-01,  1.64329520e-15,\n",
       "        -1.80646488e-18],\n",
       "       [ 2.22989005e+00, -7.93631618e-02,  3.48780999e-15,\n",
       "        -8.43055407e-18],\n",
       "       [ 7.58517362e+00, -2.31481460e-02,  2.31433602e-15,\n",
       "        -8.84459973e-18],\n",
       "       [ 1.29751079e+01,  4.13838261e-02,  3.02762245e-15,\n",
       "         1.14985451e-17],\n",
       "       [ 1.83866988e+01,  1.11113896e-01,  7.56944248e-16,\n",
       "        -4.41416827e-18]])"
      ]
     },
     "execution_count": 3,
     "metadata": {},
     "output_type": "execute_result"
    }
   ],
   "source": [
    "from sklearn.decomposition import PCA\n",
    "pca = PCA()\n",
    "pca.fit_transform(X)"
   ]
  },
  {
   "cell_type": "code",
   "execution_count": 4,
   "metadata": {},
   "outputs": [
    {
     "name": "stdout",
     "output_type": "stream",
     "text": [
      "[ 3.5         8.33973214 15.17946429 24.01919643]\n",
      "[[ -3.5         -6.33973214  -9.17946429 -12.01919643]\n",
      " [ -2.5         -4.83973214  -7.17946429  -9.51919643]\n",
      " [ -1.5         -3.00639881  -4.51279762  -6.01919643]\n",
      " [ -0.5         -1.08973214  -1.67946429  -2.26919643]\n",
      " [  0.5          0.86026786   1.22053571   1.58080357]\n",
      " [  1.5          2.82693452   4.15386905   5.48080357]\n",
      " [  2.5          4.803125     7.10625      9.409375  ]\n",
      " [  3.5          6.78526786  10.07053571  13.35580357]]\n"
     ]
    }
   ],
   "source": [
    "print(X.mean(0))\n",
    "print(X - X.mean(0))"
   ]
  },
  {
   "cell_type": "code",
   "execution_count": 5,
   "metadata": {},
   "outputs": [
    {
     "data": {
      "text/plain": [
       "array([[ 1.95271436e-01,  3.71463765e-01,  5.47656094e-01,\n",
       "         7.23848423e-01],\n",
       "       [-8.13553358e-01, -4.02510461e-01,  8.53243629e-03,\n",
       "         4.19575333e-01],\n",
       "       [ 3.64966424e-01, -1.82210345e-01, -7.30478582e-01,\n",
       "         5.47722503e-01],\n",
       "       [ 4.08410956e-01, -8.16577853e-01,  4.07922837e-01,\n",
       "         2.44059626e-04]])"
      ]
     },
     "execution_count": 5,
     "metadata": {},
     "output_type": "execute_result"
    }
   ],
   "source": [
    "pca.components_"
   ]
  },
  {
   "cell_type": "code",
   "execution_count": 6,
   "metadata": {},
   "outputs": [
    {
     "data": {
      "text/plain": [
       "array([1.57015256e+02, 1.94323521e-02, 5.94534586e-30, 1.02969781e-34])"
      ]
     },
     "execution_count": 6,
     "metadata": {},
     "output_type": "execute_result"
    }
   ],
   "source": [
    "pca.explained_variance_"
   ]
  },
  {
   "cell_type": "code",
   "execution_count": 7,
   "metadata": {},
   "outputs": [
    {
     "data": {
      "text/plain": [
       "array([ 3.5       ,  8.33973214, 15.17946429, 24.01919643])"
      ]
     },
     "execution_count": 7,
     "metadata": {},
     "output_type": "execute_result"
    }
   ],
   "source": [
    "X.mean(0)"
   ]
  },
  {
   "cell_type": "code",
   "execution_count": 8,
   "metadata": {},
   "outputs": [
    {
     "name": "stdout",
     "output_type": "stream",
     "text": [
      "[[ 6.         11.39566327 16.79132653 22.1869898 ]\n",
      " [11.39566327 21.66895001 31.94223675 42.21552349]\n",
      " [16.79132653 31.94223675 47.09314697 62.24405719]\n",
      " [22.1869898  42.21552349 62.24405719 82.27259088]]\n",
      "[[ 6.         11.39566327 16.79132653 22.1869898 ]\n",
      " [11.39566327 21.66895001 31.94223675 42.21552349]\n",
      " [16.79132653 31.94223675 47.09314697 62.24405719]\n",
      " [22.1869898  42.21552349 62.24405719 82.27259088]]\n"
     ]
    }
   ],
   "source": [
    "O = None\n",
    "for x in X - X.mean(0):\n",
    "    x = x.reshape(-1, 1)\n",
    "    #print(O, x)\n",
    "    if O is not None:\n",
    "        O += x * x.T\n",
    "    else:\n",
    "        O = x * x.T\n",
    "O /= X.shape[0] - 1\n",
    "print(O)\n",
    "print(np.cov(X, rowvar=False))"
   ]
  },
  {
   "cell_type": "code",
   "execution_count": 9,
   "metadata": {},
   "outputs": [
    {
     "name": "stdout",
     "output_type": "stream",
     "text": [
      "[ 1.57015256e+02  1.94323521e-02  8.76364663e-15 -9.09335376e-15]\n",
      "[[-0.19527144 -0.37146377 -0.54765609 -0.72384842]\n",
      " [ 0.81355336  0.40251046 -0.00853244 -0.41957533]\n",
      " [-0.41816553  0.82122217 -0.38794774 -0.0151089 ]\n",
      " [ 0.21490795  0.08896651 -0.82265688  0.51878242]]\n"
     ]
    }
   ],
   "source": [
    "w, v = np.linalg.eig(O)\n",
    "print(w)\n",
    "print(v.T)"
   ]
  },
  {
   "cell_type": "code",
   "execution_count": 10,
   "metadata": {},
   "outputs": [
    {
     "name": "stdout",
     "output_type": "stream",
     "text": [
      "[[ 0.          2.          6.         12.        ]\n",
      " [ 1.          3.5         8.         14.5       ]\n",
      " [ 2.          5.33333333 10.66666667 18.        ]\n",
      " [ 3.          7.25       13.5        21.75      ]\n",
      " [ 4.          9.2        16.4        25.6       ]\n",
      " [ 5.         11.16666667 19.33333333 29.5       ]\n",
      " [ 6.         13.14285714 22.28571429 33.42857143]\n",
      " [ 7.         15.125      25.25       37.375     ]]\n",
      "[[ 0.22613831  2.1118833   5.99762829 11.88337328]\n",
      " [ 0.94032413  3.470475    8.00062587 14.53077674]\n",
      " [ 1.89133002  5.2795682  10.66780638 18.05604457]\n",
      " [ 2.90154092  7.20128677 13.50103263 21.80077848]\n",
      " [ 3.93543383  9.1680555  16.40067716 25.63329883]\n",
      " [ 4.98116775 11.1573493  19.33353084 29.50971239]\n",
      " [ 6.03366795 13.15951457 22.28536118 33.4112078 ]\n",
      " [ 7.09039708 15.16972451 25.24905193 37.32837935]]\n"
     ]
    }
   ],
   "source": [
    "print(X)\n",
    "pca = PCA(1).fit(X)\n",
    "print(pca.inverse_transform(pca.transform(X)))"
   ]
  },
  {
   "cell_type": "code",
   "execution_count": 12,
   "metadata": {},
   "outputs": [
    {
     "name": "stdout",
     "output_type": "stream",
     "text": [
      "1100 808\n",
      "292 0.7345454545454545\n"
     ]
    }
   ],
   "source": [
    "def pcc(i, o, k):\n",
    "    c1 = (i * o) + o\n",
    "    c2 = ((i * k) + k) + ((k * k) + k) + ((k * o) + o)\n",
    "    print(c1, c2)\n",
    "    print(c1 - c2, c2/c1)\n",
    "\n",
    "pcc(10, 100, 6)"
   ]
  }
 ],
 "metadata": {
  "kernelspec": {
   "display_name": "Python 3",
   "language": "python",
   "name": "python3"
  },
  "language_info": {
   "codemirror_mode": {
    "name": "ipython",
    "version": 3
   },
   "file_extension": ".py",
   "mimetype": "text/x-python",
   "name": "python",
   "nbconvert_exporter": "python",
   "pygments_lexer": "ipython3",
   "version": "3.7.1"
  }
 },
 "nbformat": 4,
 "nbformat_minor": 2
}
